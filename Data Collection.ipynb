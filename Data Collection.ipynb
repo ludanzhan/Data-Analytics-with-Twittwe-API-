{
 "cells": [
  {
   "cell_type": "code",
   "execution_count": 1,
   "id": "684e19e6",
   "metadata": {},
   "outputs": [],
   "source": [
    "import requests\n",
    "import json \n",
    "from bearer_file import bearer_token\n",
    "\n",
    "def bearer_oauth(r):\n",
    "    \"\"\"\n",
    "    Method required by bearer token authentication.\n",
    "    \"\"\"\n",
    "\n",
    "    r.headers[\"Authorization\"] = f\"Bearer {bearer_token}\"\n",
    "    r.headers[\"User-Agent\"] = \"v2UserTweetsPython\"\n",
    "    return r\n",
    "\n",
    "def get_tweets():\n",
    "    usernames = \"usernames=elonmusk,BarackObama,cristiano,BTS_twt,Wendys,shroud,CDawgVA,charlidamelio,NFL,instagram\"\n",
    "    user_fields = \"user.fields=description,created_at\"\n",
    "    \n",
    "    url = \"https://api.twitter.com/2/users/by?{}&{}\".format(usernames, user_fields)\n",
    "    \n",
    "    id_response = requests.request(\"GET\", url, auth=bearer_oauth,)\n",
    "    json_response = id_response.json()\n",
    "    print(id_response.status_code)\n",
    "    if id_response.status_code != 200:\n",
    "        raise Exception(\n",
    "            \"Request returned an error: {} {}\".format(\n",
    "                id_response.status_code, id_response.text\n",
    "            )\n",
    "        )\n",
    "    Id_list = []\n",
    "    person_id_list = []\n",
    "    for response in json_response['data']:\n",
    "        account_id = response['id']\n",
    "        Id_list.append(account_id)\n",
    "        person_dict = {response['username']: response['id']}\n",
    "        person_id_list.append(person_dict)\n",
    "    \n",
    "    url_list = []\n",
    "    for account in Id_list:\n",
    "        user_id = account\n",
    "        url = \"https://api.twitter.com/2/users/{}/tweets\".format(user_id)\n",
    "        url_list.append(url)\n",
    "    \n",
    "    response_list = []\n",
    "    for url in url_list:\n",
    "        url = url\n",
    "        params = {\"tweet.fields\": \"public_metrics\", \"expansions\": \"author_id\", \"user.fields\":\"description\", \"max_results\": 100}\n",
    "    \n",
    "    \n",
    "    \n",
    "        response = requests.request(\"GET\", url, auth=bearer_oauth, params=params)\n",
    "        print(response.status_code)\n",
    "        if response.status_code != 200:\n",
    "            raise Exception(\n",
    "                \"Request returned an error: {} {}\".format(\n",
    "                    response.status_code, response.text\n",
    "                )\n",
    "            )\n",
    "        tweets = response.json()\n",
    "        response_list.append(tweets)\n",
    "        \n",
    "    return person_id_list, response_list\n",
    "        \n",
    "    "
   ]
  },
  {
   "cell_type": "code",
   "execution_count": 3,
   "id": "345f3975",
   "metadata": {},
   "outputs": [
    {
     "name": "stdout",
     "output_type": "stream",
     "text": [
      "200\n",
      "200\n",
      "200\n",
      "200\n",
      "200\n",
      "200\n",
      "200\n",
      "200\n",
      "200\n",
      "200\n",
      "200\n"
     ]
    }
   ],
   "source": [
    "tweet_data = get_tweets()"
   ]
  },
  {
   "cell_type": "code",
   "execution_count": 4,
   "id": "2c091a37",
   "metadata": {},
   "outputs": [],
   "source": [
    "with open(\"tweet.json\", \"w\") as write_file:\n",
    "    json.dump(tweet_data, write_file)"
   ]
  },
  {
   "cell_type": "code",
   "execution_count": null,
   "id": "1158fc55",
   "metadata": {},
   "outputs": [],
   "source": []
  },
  {
   "cell_type": "code",
   "execution_count": null,
   "id": "0c38e978",
   "metadata": {},
   "outputs": [],
   "source": []
  }
 ],
 "metadata": {
  "kernelspec": {
   "display_name": "Python 3",
   "language": "python",
   "name": "python3"
  },
  "language_info": {
   "codemirror_mode": {
    "name": "ipython",
    "version": 3
   },
   "file_extension": ".py",
   "mimetype": "text/x-python",
   "name": "python",
   "nbconvert_exporter": "python",
   "pygments_lexer": "ipython3",
   "version": "3.8.8"
  }
 },
 "nbformat": 4,
 "nbformat_minor": 5
}
